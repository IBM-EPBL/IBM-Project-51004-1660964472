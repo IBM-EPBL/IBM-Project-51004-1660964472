{
  "cells": [
    {
      "cell_type": "markdown",
      "metadata": {
        "id": "zPSWL5d8ynjN"
      },
      "source": [
        "#Importing libraries"
      ]
    },
    {
      "cell_type": "code",
      "execution_count": 14,
      "metadata": {
        "id": "IpJKgkl9yu2_"
      },
      "outputs": [],
      "source": [
        "import numpy as np\n",
        "import pandas as pd\n",
        "import seaborn as sns\n",
        "import matplotlib.pyplot as plt\n",
        "import warnings"
      ]
    },
    {
      "cell_type": "markdown",
      "metadata": {
        "id": "vWXkn6BOyyVj"
      },
      "source": [
        "#Reading Dataset"
      ]
    },
    {
      "cell_type": "code",
      "execution_count": 15,
      "metadata": {
        "colab": {
          "base_uri": "https://localhost:8080/",
          "height": 311
        },
        "id": "9XgKR4p3y34B",
        "outputId": "b63ce6ab-7ee1-4774-9040-184d65efbc54"
      },
      "outputs": [],
      "source": [
        "data = pd.read_csv('water_potability.csv',encoding='ISO-8859-1',low_memory=False)"
      ]
    },
    {
      "cell_type": "markdown",
      "metadata": {
        "id": "afd-wxeHzDI8"
      },
      "source": [
        "**Analyse the data**"
      ]
    },
    {
      "cell_type": "code",
      "execution_count": 16,
      "metadata": {
        "colab": {
          "base_uri": "https://localhost:8080/",
          "height": 165
        },
        "id": "Xa-r1emNzORP",
        "outputId": "88f5a0b6-951f-4a59-b171-fdd595fa8384"
      },
      "outputs": [
        {
          "data": {
            "text/html": [
              "<div>\n",
              "<style scoped>\n",
              "    .dataframe tbody tr th:only-of-type {\n",
              "        vertical-align: middle;\n",
              "    }\n",
              "\n",
              "    .dataframe tbody tr th {\n",
              "        vertical-align: top;\n",
              "    }\n",
              "\n",
              "    .dataframe thead th {\n",
              "        text-align: right;\n",
              "    }\n",
              "</style>\n",
              "<table border=\"1\" class=\"dataframe\">\n",
              "  <thead>\n",
              "    <tr style=\"text-align: right;\">\n",
              "      <th></th>\n",
              "      <th>STATION CODE</th>\n",
              "      <th>LOCATIONS</th>\n",
              "      <th>STATE</th>\n",
              "      <th>Temp</th>\n",
              "      <th>D.O. (mg/l)</th>\n",
              "      <th>PH</th>\n",
              "      <th>CONDUCTIVITY (µmhos/cm)</th>\n",
              "      <th>B.O.D. (mg/l)</th>\n",
              "      <th>NITRATENAN N+ NITRITENANN (mg/l)</th>\n",
              "      <th>FECAL COLIFORM (MPN/100ml)</th>\n",
              "      <th>TOTAL COLIFORM (MPN/100ml)Mean</th>\n",
              "      <th>year</th>\n",
              "    </tr>\n",
              "  </thead>\n",
              "  <tbody>\n",
              "    <tr>\n",
              "      <th>0</th>\n",
              "      <td>1393</td>\n",
              "      <td>DAMANGANGA AT D/S OF MADHUBAN, DAMAN</td>\n",
              "      <td>DAMAN &amp; DIU</td>\n",
              "      <td>30.6</td>\n",
              "      <td>6.7</td>\n",
              "      <td>7.5</td>\n",
              "      <td>203</td>\n",
              "      <td>NAN</td>\n",
              "      <td>0.1</td>\n",
              "      <td>11</td>\n",
              "      <td>27</td>\n",
              "      <td>2014</td>\n",
              "    </tr>\n",
              "    <tr>\n",
              "      <th>1</th>\n",
              "      <td>1399</td>\n",
              "      <td>ZUARI AT D/S OF PT. WHERE KUMBARJRIA CANAL JOI...</td>\n",
              "      <td>GOA</td>\n",
              "      <td>29.8</td>\n",
              "      <td>5.7</td>\n",
              "      <td>7.2</td>\n",
              "      <td>189</td>\n",
              "      <td>2</td>\n",
              "      <td>0.2</td>\n",
              "      <td>4953</td>\n",
              "      <td>8391</td>\n",
              "      <td>2014</td>\n",
              "    </tr>\n",
              "    <tr>\n",
              "      <th>2</th>\n",
              "      <td>1475</td>\n",
              "      <td>ZUARI AT PANCHAWADI</td>\n",
              "      <td>GOA</td>\n",
              "      <td>29.5</td>\n",
              "      <td>6.3</td>\n",
              "      <td>6.9</td>\n",
              "      <td>179</td>\n",
              "      <td>1.7</td>\n",
              "      <td>0.1</td>\n",
              "      <td>3243</td>\n",
              "      <td>5330</td>\n",
              "      <td>2014</td>\n",
              "    </tr>\n",
              "    <tr>\n",
              "      <th>3</th>\n",
              "      <td>3181</td>\n",
              "      <td>RIVER ZUARI AT BORIM BRIDGE</td>\n",
              "      <td>GOA</td>\n",
              "      <td>29.7</td>\n",
              "      <td>5.8</td>\n",
              "      <td>6.9</td>\n",
              "      <td>64</td>\n",
              "      <td>3.8</td>\n",
              "      <td>0.5</td>\n",
              "      <td>5382</td>\n",
              "      <td>8443</td>\n",
              "      <td>2014</td>\n",
              "    </tr>\n",
              "    <tr>\n",
              "      <th>4</th>\n",
              "      <td>3182</td>\n",
              "      <td>RIVER ZUARI AT MARCAIM JETTY</td>\n",
              "      <td>GOA</td>\n",
              "      <td>29.5</td>\n",
              "      <td>5.8</td>\n",
              "      <td>7.3</td>\n",
              "      <td>83</td>\n",
              "      <td>1.9</td>\n",
              "      <td>0.4</td>\n",
              "      <td>3428</td>\n",
              "      <td>5500</td>\n",
              "      <td>2014</td>\n",
              "    </tr>\n",
              "  </tbody>\n",
              "</table>\n",
              "</div>"
            ],
            "text/plain": [
              "  STATION CODE                                          LOCATIONS  \\\n",
              "0         1393               DAMANGANGA AT D/S OF MADHUBAN, DAMAN   \n",
              "1         1399  ZUARI AT D/S OF PT. WHERE KUMBARJRIA CANAL JOI...   \n",
              "2         1475                                ZUARI AT PANCHAWADI   \n",
              "3         3181                        RIVER ZUARI AT BORIM BRIDGE   \n",
              "4         3182                       RIVER ZUARI AT MARCAIM JETTY   \n",
              "\n",
              "         STATE  Temp D.O. (mg/l)   PH CONDUCTIVITY (µmhos/cm) B.O.D. (mg/l)  \\\n",
              "0  DAMAN & DIU  30.6         6.7  7.5                     203           NAN   \n",
              "1          GOA  29.8         5.7  7.2                     189             2   \n",
              "2          GOA  29.5         6.3  6.9                     179           1.7   \n",
              "3          GOA  29.7         5.8  6.9                      64           3.8   \n",
              "4          GOA  29.5         5.8  7.3                      83           1.9   \n",
              "\n",
              "  NITRATENAN N+ NITRITENANN (mg/l) FECAL COLIFORM (MPN/100ml)  \\\n",
              "0                              0.1                         11   \n",
              "1                              0.2                       4953   \n",
              "2                              0.1                       3243   \n",
              "3                              0.5                       5382   \n",
              "4                              0.4                       3428   \n",
              "\n",
              "  TOTAL COLIFORM (MPN/100ml)Mean  year  \n",
              "0                             27  2014  \n",
              "1                           8391  2014  \n",
              "2                           5330  2014  \n",
              "3                           8443  2014  \n",
              "4                           5500  2014  "
            ]
          },
          "execution_count": 16,
          "metadata": {},
          "output_type": "execute_result"
        }
      ],
      "source": [
        "data.head()"
      ]
    },
    {
      "cell_type": "code",
      "execution_count": 17,
      "metadata": {
        "id": "QYZexHulzS7n"
      },
      "outputs": [
        {
          "data": {
            "text/html": [
              "<div>\n",
              "<style scoped>\n",
              "    .dataframe tbody tr th:only-of-type {\n",
              "        vertical-align: middle;\n",
              "    }\n",
              "\n",
              "    .dataframe tbody tr th {\n",
              "        vertical-align: top;\n",
              "    }\n",
              "\n",
              "    .dataframe thead th {\n",
              "        text-align: right;\n",
              "    }\n",
              "</style>\n",
              "<table border=\"1\" class=\"dataframe\">\n",
              "  <thead>\n",
              "    <tr style=\"text-align: right;\">\n",
              "      <th></th>\n",
              "      <th>year</th>\n",
              "    </tr>\n",
              "  </thead>\n",
              "  <tbody>\n",
              "    <tr>\n",
              "      <th>count</th>\n",
              "      <td>1991.000000</td>\n",
              "    </tr>\n",
              "    <tr>\n",
              "      <th>mean</th>\n",
              "      <td>2010.038172</td>\n",
              "    </tr>\n",
              "    <tr>\n",
              "      <th>std</th>\n",
              "      <td>3.057333</td>\n",
              "    </tr>\n",
              "    <tr>\n",
              "      <th>min</th>\n",
              "      <td>2003.000000</td>\n",
              "    </tr>\n",
              "    <tr>\n",
              "      <th>25%</th>\n",
              "      <td>2008.000000</td>\n",
              "    </tr>\n",
              "    <tr>\n",
              "      <th>50%</th>\n",
              "      <td>2011.000000</td>\n",
              "    </tr>\n",
              "    <tr>\n",
              "      <th>75%</th>\n",
              "      <td>2013.000000</td>\n",
              "    </tr>\n",
              "    <tr>\n",
              "      <th>max</th>\n",
              "      <td>2014.000000</td>\n",
              "    </tr>\n",
              "  </tbody>\n",
              "</table>\n",
              "</div>"
            ],
            "text/plain": [
              "              year\n",
              "count  1991.000000\n",
              "mean   2010.038172\n",
              "std       3.057333\n",
              "min    2003.000000\n",
              "25%    2008.000000\n",
              "50%    2011.000000\n",
              "75%    2013.000000\n",
              "max    2014.000000"
            ]
          },
          "execution_count": 17,
          "metadata": {},
          "output_type": "execute_result"
        }
      ],
      "source": [
        "data.describe()"
      ]
    },
    {
      "cell_type": "code",
      "execution_count": 18,
      "metadata": {
        "id": "l8BBkrkqzYWd"
      },
      "outputs": [
        {
          "name": "stdout",
          "output_type": "stream",
          "text": [
            "<class 'pandas.core.frame.DataFrame'>\n",
            "RangeIndex: 1991 entries, 0 to 1990\n",
            "Data columns (total 12 columns):\n",
            " #   Column                            Non-Null Count  Dtype \n",
            "---  ------                            --------------  ----- \n",
            " 0   STATION CODE                      1991 non-null   object\n",
            " 1   LOCATIONS                         1991 non-null   object\n",
            " 2   STATE                             1991 non-null   object\n",
            " 3   Temp                              1991 non-null   object\n",
            " 4   D.O. (mg/l)                       1991 non-null   object\n",
            " 5   PH                                1991 non-null   object\n",
            " 6   CONDUCTIVITY (µmhos/cm)           1991 non-null   object\n",
            " 7   B.O.D. (mg/l)                     1991 non-null   object\n",
            " 8   NITRATENAN N+ NITRITENANN (mg/l)  1991 non-null   object\n",
            " 9   FECAL COLIFORM (MPN/100ml)        1991 non-null   object\n",
            " 10  TOTAL COLIFORM (MPN/100ml)Mean    1991 non-null   object\n",
            " 11  year                              1991 non-null   int64 \n",
            "dtypes: int64(1), object(11)\n",
            "memory usage: 186.8+ KB\n"
          ]
        }
      ],
      "source": [
        "data.info()"
      ]
    },
    {
      "cell_type": "code",
      "execution_count": 19,
      "metadata": {
        "id": "cdu2BS7AzbRK"
      },
      "outputs": [
        {
          "data": {
            "text/plain": [
              "(1991, 12)"
            ]
          },
          "execution_count": 19,
          "metadata": {},
          "output_type": "execute_result"
        }
      ],
      "source": [
        "data.shape"
      ]
    },
    {
      "cell_type": "markdown",
      "metadata": {},
      "source": [
        "**Handling the missing value**"
      ]
    },
    {
      "cell_type": "code",
      "execution_count": 20,
      "metadata": {},
      "outputs": [
        {
          "data": {
            "text/plain": [
              "STATION CODE                        False\n",
              "LOCATIONS                           False\n",
              "STATE                               False\n",
              "Temp                                False\n",
              "D.O. (mg/l)                         False\n",
              "PH                                  False\n",
              "CONDUCTIVITY (µmhos/cm)             False\n",
              "B.O.D. (mg/l)                       False\n",
              "NITRATENAN N+ NITRITENANN (mg/l)    False\n",
              "FECAL COLIFORM (MPN/100ml)          False\n",
              "TOTAL COLIFORM (MPN/100ml)Mean      False\n",
              "year                                False\n",
              "dtype: bool"
            ]
          },
          "execution_count": 20,
          "metadata": {},
          "output_type": "execute_result"
        }
      ],
      "source": [
        "data.isnull().any()"
      ]
    },
    {
      "cell_type": "code",
      "execution_count": 21,
      "metadata": {},
      "outputs": [
        {
          "data": {
            "text/plain": [
              "STATION CODE                        0\n",
              "LOCATIONS                           0\n",
              "STATE                               0\n",
              "Temp                                0\n",
              "D.O. (mg/l)                         0\n",
              "PH                                  0\n",
              "CONDUCTIVITY (µmhos/cm)             0\n",
              "B.O.D. (mg/l)                       0\n",
              "NITRATENAN N+ NITRITENANN (mg/l)    0\n",
              "FECAL COLIFORM (MPN/100ml)          0\n",
              "TOTAL COLIFORM (MPN/100ml)Mean      0\n",
              "year                                0\n",
              "dtype: int64"
            ]
          },
          "execution_count": 21,
          "metadata": {},
          "output_type": "execute_result"
        }
      ],
      "source": [
        "data.isnull().sum()"
      ]
    },
    {
      "cell_type": "code",
      "execution_count": 22,
      "metadata": {},
      "outputs": [
        {
          "data": {
            "text/plain": [
              "STATION CODE                        object\n",
              "LOCATIONS                           object\n",
              "STATE                               object\n",
              "Temp                                object\n",
              "D.O. (mg/l)                         object\n",
              "PH                                  object\n",
              "CONDUCTIVITY (µmhos/cm)             object\n",
              "B.O.D. (mg/l)                       object\n",
              "NITRATENAN N+ NITRITENANN (mg/l)    object\n",
              "FECAL COLIFORM (MPN/100ml)          object\n",
              "TOTAL COLIFORM (MPN/100ml)Mean      object\n",
              "year                                 int64\n",
              "dtype: object"
            ]
          },
          "execution_count": 22,
          "metadata": {},
          "output_type": "execute_result"
        }
      ],
      "source": [
        "data.dtypes"
      ]
    },
    {
      "cell_type": "code",
      "execution_count": 23,
      "metadata": {},
      "outputs": [
        {
          "data": {
            "text/plain": [
              "STATION CODE                         object\n",
              "LOCATIONS                            object\n",
              "STATE                                object\n",
              "Temp                                float64\n",
              "D.O. (mg/l)                         float64\n",
              "PH                                  float64\n",
              "CONDUCTIVITY (µmhos/cm)             float64\n",
              "B.O.D. (mg/l)                       float64\n",
              "NITRATENAN N+ NITRITENANN (mg/l)    float64\n",
              "FECAL COLIFORM (MPN/100ml)           object\n",
              "TOTAL COLIFORM (MPN/100ml)Mean      float64\n",
              "year                                  int64\n",
              "dtype: object"
            ]
          },
          "execution_count": 23,
          "metadata": {},
          "output_type": "execute_result"
        }
      ],
      "source": [
        "data['Temp']=pd.to_numeric(data['Temp'],errors='coerce')\n",
        "data['D.O. (mg/l)']=pd.to_numeric(data['D.O. (mg/l)'],errors='coerce')\n",
        "data['PH']=pd.to_numeric(data['PH'],errors='coerce')\n",
        "data['B.O.D. (mg/l)']=pd.to_numeric(data['B.O.D. (mg/l)'],errors='coerce')\n",
        "data['CONDUCTIVITY (µmhos/cm)']=pd.to_numeric(data['CONDUCTIVITY (µmhos/cm)'],errors='coerce')\n",
        "data['NITRATENAN N+ NITRITENANN (mg/l)']=pd.to_numeric(data['NITRATENAN N+ NITRITENANN (mg/l)'],errors='coerce')\n",
        "data['TOTAL COLIFORM (MPN/100ml)Mean']=pd.to_numeric(data['TOTAL COLIFORM (MPN/100ml)Mean'],errors='coerce')\n",
        "data.dtypes"
      ]
    },
    {
      "cell_type": "code",
      "execution_count": 24,
      "metadata": {},
      "outputs": [
        {
          "data": {
            "text/plain": [
              "STATION CODE                          0\n",
              "LOCATIONS                             0\n",
              "STATE                                 0\n",
              "Temp                                 92\n",
              "D.O. (mg/l)                          31\n",
              "PH                                    8\n",
              "CONDUCTIVITY (µmhos/cm)              25\n",
              "B.O.D. (mg/l)                        43\n",
              "NITRATENAN N+ NITRITENANN (mg/l)    225\n",
              "FECAL COLIFORM (MPN/100ml)            0\n",
              "TOTAL COLIFORM (MPN/100ml)Mean      132\n",
              "year                                  0\n",
              "dtype: int64"
            ]
          },
          "execution_count": 24,
          "metadata": {},
          "output_type": "execute_result"
        }
      ],
      "source": [
        "data.isnull().sum()"
      ]
    },
    {
      "cell_type": "code",
      "execution_count": 25,
      "metadata": {},
      "outputs": [],
      "source": [
        "\n",
        "data['Temp'].fillna(data['Temp'].mean(),inplace=True)\n",
        "data['D.O. (mg/l)'].fillna(data['D.O. (mg/l)'].mean(),inplace=True)\n",
        "data['PH'].fillna(data['PH'].mean(),inplace=True)\n",
        "data['CONDUCTIVITY (µmhos/cm)'].fillna(data['CONDUCTIVITY (µmhos/cm)'].mean(),inplace=True)\n",
        "data['B.O.D. (mg/l)'].fillna(data['B.O.D. (mg/l)'].mean(),inplace=True)\n",
        "data['NITRATENAN N+ NITRITENANN (mg/l)'].fillna(data['NITRATENAN N+ NITRITENANN (mg/l)'].mean(),inplace=True)\n",
        "data['TOTAL COLIFORM (MPN/100ml)Mean'].fillna(data['TOTAL COLIFORM (MPN/100ml)Mean'].mean(),inplace=True)"
      ]
    },
    {
      "cell_type": "code",
      "execution_count": 26,
      "metadata": {},
      "outputs": [],
      "source": [
        "data.drop([\"FECAL COLIFORM (MPN/100ml)\"],axis=1,inplace=True)"
      ]
    },
    {
      "cell_type": "code",
      "execution_count": 27,
      "metadata": {},
      "outputs": [],
      "source": [
        "data=data.rename(columns = {'D.O. (mg/l)': 'do'})\n",
        "data=data.rename(columns = {'CONDUCTIVITY (µmhos/cm)': 'co'})\n",
        "data=data.rename(columns = {'B.O.D. (mg/l)': 'bod'})\n",
        "data=data.rename(columns = {'NITRATENAN N+ NITRITENANN (mg/l)': 'na'})\n",
        "data=data.rename(columns = {'TOTAL COLIFORM (MPN/100ml)Mean': 'tc'})\n",
        "data=data.rename(columns = {'STATION CODE': 'station'})\n",
        "data=data.rename(columns = {'LOCATIONS': 'location'})\n",
        "data=data.rename(columns = {'STATE': 'state'})\n",
        "data=data.rename(columns = {'PH': 'ph'})"
      ]
    },
    {
      "cell_type": "markdown",
      "metadata": {
        "id": "FqDS7ZAPzdUA"
      },
      "source": []
    }
  ],
  "metadata": {
    "colab": {
      "provenance": []
    },
    "kernelspec": {
      "display_name": "Python 3.7.8rc1 64-bit",
      "language": "python",
      "name": "python3"
    },
    "language_info": {
      "codemirror_mode": {
        "name": "ipython",
        "version": 3
      },
      "file_extension": ".py",
      "mimetype": "text/x-python",
      "name": "python",
      "nbconvert_exporter": "python",
      "pygments_lexer": "ipython3",
      "version": "3.7.8rc1"
    },
    "vscode": {
      "interpreter": {
        "hash": "7250ff88d2a6d6526fcf8cc6cff5755b1b1db5c51465bef067003d095fa88851"
      }
    }
  },
  "nbformat": 4,
  "nbformat_minor": 0
}
